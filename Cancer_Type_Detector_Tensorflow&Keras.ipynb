{
  "nbformat": 4,
  "nbformat_minor": 0,
  "metadata": {
    "colab": {
      "provenance": [],
      "gpuType": "T4"
    },
    "kernelspec": {
      "name": "python3",
      "display_name": "Python 3"
    },
    "language_info": {
      "name": "python"
    },
    "accelerator": "GPU",
    "gpuClass": "standard"
  },
  "cells": [
    {
      "cell_type": "markdown",
      "source": [
        "# Cancer Type Prediction"
      ],
      "metadata": {
        "id": "rgsrCIitzn0p"
      }
    },
    {
      "cell_type": "markdown",
      "source": [
        "## Import Libraries"
      ],
      "metadata": {
        "id": "jY6vGKCZz0q-"
      }
    },
    {
      "cell_type": "code",
      "execution_count": 3,
      "metadata": {
        "id": "vpy8DAPsyqed"
      },
      "outputs": [],
      "source": [
        "import pandas as pd\n",
        "import numpy as np\n",
        "import matplotlib.pyplot as plt\n",
        "import seaborn as sns \n",
        "import os\n",
        "import warnings\n",
        "warnings.filterwarnings(\"ignore\")\n",
        "\n",
        "from sklearn.model_selection import train_test_split\n",
        "from sklearn.preprocessing import LabelEncoder\n",
        "from sklearn.preprocessing import MinMaxScaler\n",
        "\n",
        "import tensorflow as tf\n",
        "from tensorflow import keras\n",
        "from keras.models import Sequential\n",
        "from keras.layers import Dense"
      ]
    },
    {
      "cell_type": "markdown",
      "source": [
        "## Load Data"
      ],
      "metadata": {
        "id": "7kIiSKGv2n-d"
      }
    },
    {
      "cell_type": "code",
      "source": [
        "from google.colab import files\n",
        "files.upload()"
      ],
      "metadata": {
        "colab": {
          "base_uri": "https://localhost:8080/",
          "height": 73
        },
        "id": "wNe75vt90dHT",
        "outputId": "b3ac157b-c2c5-43ce-f81a-8ce565d4305c"
      },
      "execution_count": 4,
      "outputs": [
        {
          "output_type": "display_data",
          "data": {
            "text/plain": [
              "<IPython.core.display.HTML object>"
            ],
            "text/html": [
              "\n",
              "     <input type=\"file\" id=\"files-74e0c02e-6469-4144-910a-83520f7285f7\" name=\"files[]\" multiple disabled\n",
              "        style=\"border:none\" />\n",
              "     <output id=\"result-74e0c02e-6469-4144-910a-83520f7285f7\">\n",
              "      Upload widget is only available when the cell has been executed in the\n",
              "      current browser session. Please rerun this cell to enable.\n",
              "      </output>\n",
              "      <script>// Copyright 2017 Google LLC\n",
              "//\n",
              "// Licensed under the Apache License, Version 2.0 (the \"License\");\n",
              "// you may not use this file except in compliance with the License.\n",
              "// You may obtain a copy of the License at\n",
              "//\n",
              "//      http://www.apache.org/licenses/LICENSE-2.0\n",
              "//\n",
              "// Unless required by applicable law or agreed to in writing, software\n",
              "// distributed under the License is distributed on an \"AS IS\" BASIS,\n",
              "// WITHOUT WARRANTIES OR CONDITIONS OF ANY KIND, either express or implied.\n",
              "// See the License for the specific language governing permissions and\n",
              "// limitations under the License.\n",
              "\n",
              "/**\n",
              " * @fileoverview Helpers for google.colab Python module.\n",
              " */\n",
              "(function(scope) {\n",
              "function span(text, styleAttributes = {}) {\n",
              "  const element = document.createElement('span');\n",
              "  element.textContent = text;\n",
              "  for (const key of Object.keys(styleAttributes)) {\n",
              "    element.style[key] = styleAttributes[key];\n",
              "  }\n",
              "  return element;\n",
              "}\n",
              "\n",
              "// Max number of bytes which will be uploaded at a time.\n",
              "const MAX_PAYLOAD_SIZE = 100 * 1024;\n",
              "\n",
              "function _uploadFiles(inputId, outputId) {\n",
              "  const steps = uploadFilesStep(inputId, outputId);\n",
              "  const outputElement = document.getElementById(outputId);\n",
              "  // Cache steps on the outputElement to make it available for the next call\n",
              "  // to uploadFilesContinue from Python.\n",
              "  outputElement.steps = steps;\n",
              "\n",
              "  return _uploadFilesContinue(outputId);\n",
              "}\n",
              "\n",
              "// This is roughly an async generator (not supported in the browser yet),\n",
              "// where there are multiple asynchronous steps and the Python side is going\n",
              "// to poll for completion of each step.\n",
              "// This uses a Promise to block the python side on completion of each step,\n",
              "// then passes the result of the previous step as the input to the next step.\n",
              "function _uploadFilesContinue(outputId) {\n",
              "  const outputElement = document.getElementById(outputId);\n",
              "  const steps = outputElement.steps;\n",
              "\n",
              "  const next = steps.next(outputElement.lastPromiseValue);\n",
              "  return Promise.resolve(next.value.promise).then((value) => {\n",
              "    // Cache the last promise value to make it available to the next\n",
              "    // step of the generator.\n",
              "    outputElement.lastPromiseValue = value;\n",
              "    return next.value.response;\n",
              "  });\n",
              "}\n",
              "\n",
              "/**\n",
              " * Generator function which is called between each async step of the upload\n",
              " * process.\n",
              " * @param {string} inputId Element ID of the input file picker element.\n",
              " * @param {string} outputId Element ID of the output display.\n",
              " * @return {!Iterable<!Object>} Iterable of next steps.\n",
              " */\n",
              "function* uploadFilesStep(inputId, outputId) {\n",
              "  const inputElement = document.getElementById(inputId);\n",
              "  inputElement.disabled = false;\n",
              "\n",
              "  const outputElement = document.getElementById(outputId);\n",
              "  outputElement.innerHTML = '';\n",
              "\n",
              "  const pickedPromise = new Promise((resolve) => {\n",
              "    inputElement.addEventListener('change', (e) => {\n",
              "      resolve(e.target.files);\n",
              "    });\n",
              "  });\n",
              "\n",
              "  const cancel = document.createElement('button');\n",
              "  inputElement.parentElement.appendChild(cancel);\n",
              "  cancel.textContent = 'Cancel upload';\n",
              "  const cancelPromise = new Promise((resolve) => {\n",
              "    cancel.onclick = () => {\n",
              "      resolve(null);\n",
              "    };\n",
              "  });\n",
              "\n",
              "  // Wait for the user to pick the files.\n",
              "  const files = yield {\n",
              "    promise: Promise.race([pickedPromise, cancelPromise]),\n",
              "    response: {\n",
              "      action: 'starting',\n",
              "    }\n",
              "  };\n",
              "\n",
              "  cancel.remove();\n",
              "\n",
              "  // Disable the input element since further picks are not allowed.\n",
              "  inputElement.disabled = true;\n",
              "\n",
              "  if (!files) {\n",
              "    return {\n",
              "      response: {\n",
              "        action: 'complete',\n",
              "      }\n",
              "    };\n",
              "  }\n",
              "\n",
              "  for (const file of files) {\n",
              "    const li = document.createElement('li');\n",
              "    li.append(span(file.name, {fontWeight: 'bold'}));\n",
              "    li.append(span(\n",
              "        `(${file.type || 'n/a'}) - ${file.size} bytes, ` +\n",
              "        `last modified: ${\n",
              "            file.lastModifiedDate ? file.lastModifiedDate.toLocaleDateString() :\n",
              "                                    'n/a'} - `));\n",
              "    const percent = span('0% done');\n",
              "    li.appendChild(percent);\n",
              "\n",
              "    outputElement.appendChild(li);\n",
              "\n",
              "    const fileDataPromise = new Promise((resolve) => {\n",
              "      const reader = new FileReader();\n",
              "      reader.onload = (e) => {\n",
              "        resolve(e.target.result);\n",
              "      };\n",
              "      reader.readAsArrayBuffer(file);\n",
              "    });\n",
              "    // Wait for the data to be ready.\n",
              "    let fileData = yield {\n",
              "      promise: fileDataPromise,\n",
              "      response: {\n",
              "        action: 'continue',\n",
              "      }\n",
              "    };\n",
              "\n",
              "    // Use a chunked sending to avoid message size limits. See b/62115660.\n",
              "    let position = 0;\n",
              "    do {\n",
              "      const length = Math.min(fileData.byteLength - position, MAX_PAYLOAD_SIZE);\n",
              "      const chunk = new Uint8Array(fileData, position, length);\n",
              "      position += length;\n",
              "\n",
              "      const base64 = btoa(String.fromCharCode.apply(null, chunk));\n",
              "      yield {\n",
              "        response: {\n",
              "          action: 'append',\n",
              "          file: file.name,\n",
              "          data: base64,\n",
              "        },\n",
              "      };\n",
              "\n",
              "      let percentDone = fileData.byteLength === 0 ?\n",
              "          100 :\n",
              "          Math.round((position / fileData.byteLength) * 100);\n",
              "      percent.textContent = `${percentDone}% done`;\n",
              "\n",
              "    } while (position < fileData.byteLength);\n",
              "  }\n",
              "\n",
              "  // All done.\n",
              "  yield {\n",
              "    response: {\n",
              "      action: 'complete',\n",
              "    }\n",
              "  };\n",
              "}\n",
              "\n",
              "scope.google = scope.google || {};\n",
              "scope.google.colab = scope.google.colab || {};\n",
              "scope.google.colab._files = {\n",
              "  _uploadFiles,\n",
              "  _uploadFilesContinue,\n",
              "};\n",
              "})(self);\n",
              "</script> "
            ]
          },
          "metadata": {}
        },
        {
          "output_type": "stream",
          "name": "stdout",
          "text": [
            "Saving cancer_gene_expression.csv to cancer_gene_expression.csv\n"
          ]
        }
      ]
    },
    {
      "cell_type": "code",
      "source": [
        "os.listdir()"
      ],
      "metadata": {
        "colab": {
          "base_uri": "https://localhost:8080/"
        },
        "id": "1EK7kTc95jX4",
        "outputId": "ada35bf7-91da-457b-c001-969f3c2ee8c1"
      },
      "execution_count": 5,
      "outputs": [
        {
          "output_type": "execute_result",
          "data": {
            "text/plain": [
              "['.config', 'cancer_gene_expression.csv', 'sample_data']"
            ]
          },
          "metadata": {},
          "execution_count": 5
        }
      ]
    },
    {
      "cell_type": "code",
      "source": [
        "df = pd.read_csv(\"cancer_gene_expression.csv\")"
      ],
      "metadata": {
        "id": "CMApW4UGAyDT"
      },
      "execution_count": 6,
      "outputs": []
    },
    {
      "cell_type": "markdown",
      "source": [
        "## Data Preprocessing "
      ],
      "metadata": {
        "id": "8X1dBnY8DeCp"
      }
    },
    {
      "cell_type": "code",
      "source": [
        "df.shape"
      ],
      "metadata": {
        "colab": {
          "base_uri": "https://localhost:8080/"
        },
        "id": "Kg5cbyTsA6vU",
        "outputId": "5a044bcb-1d6c-400f-d45b-f8459761db52"
      },
      "execution_count": 7,
      "outputs": [
        {
          "output_type": "execute_result",
          "data": {
            "text/plain": [
              "(801, 8001)"
            ]
          },
          "metadata": {},
          "execution_count": 7
        }
      ]
    },
    {
      "cell_type": "code",
      "source": [
        "df.columns[0:3]"
      ],
      "metadata": {
        "colab": {
          "base_uri": "https://localhost:8080/"
        },
        "id": "qaBFBb9BA-kG",
        "outputId": "468c5432-6ed6-459d-c8e9-8e663d304bbe"
      },
      "execution_count": 11,
      "outputs": [
        {
          "output_type": "execute_result",
          "data": {
            "text/plain": [
              "Index(['gene_1', 'gene_2', 'gene_3'], dtype='object')"
            ]
          },
          "metadata": {},
          "execution_count": 11
        }
      ]
    },
    {
      "cell_type": "code",
      "source": [
        "df.columns[-1]"
      ],
      "metadata": {
        "colab": {
          "base_uri": "https://localhost:8080/",
          "height": 35
        },
        "id": "zg1hWtbEBKEl",
        "outputId": "82976d53-5eae-4af7-9228-1e0e86231d45"
      },
      "execution_count": 12,
      "outputs": [
        {
          "output_type": "execute_result",
          "data": {
            "text/plain": [
              "'Cancer_Type'"
            ],
            "application/vnd.google.colaboratory.intrinsic+json": {
              "type": "string"
            }
          },
          "metadata": {},
          "execution_count": 12
        }
      ]
    },
    {
      "cell_type": "code",
      "source": [
        "datanull = df.isnull().sum()\n",
        "g = [i for i in datanull if i > 0]\n",
        "\n",
        "print('columns with missing values : %d'%len(g))"
      ],
      "metadata": {
        "colab": {
          "base_uri": "https://localhost:8080/"
        },
        "id": "mOJRPegpBOqM",
        "outputId": "a717121f-f490-4fd8-fa30-07a3d4b93526"
      },
      "execution_count": 13,
      "outputs": [
        {
          "output_type": "stream",
          "name": "stdout",
          "text": [
            "columns with missing values : 0\n"
          ]
        }
      ]
    },
    {
      "cell_type": "code",
      "source": [
        "df['Cancer_Type'].value_counts()"
      ],
      "metadata": {
        "colab": {
          "base_uri": "https://localhost:8080/"
        },
        "id": "zMgCz2ThBgLi",
        "outputId": "7767b661-aa15-40db-873a-43c1c4b9d990"
      },
      "execution_count": 14,
      "outputs": [
        {
          "output_type": "execute_result",
          "data": {
            "text/plain": [
              "BRCA    300\n",
              "KIRC    146\n",
              "LUAD    141\n",
              "PRAD    136\n",
              "COAD     78\n",
              "Name: Cancer_Type, dtype: int64"
            ]
          },
          "metadata": {},
          "execution_count": 14
        }
      ]
    },
    {
      "cell_type": "code",
      "source": [
        "x = df.iloc[:,0:-1]\n",
        "x.columns"
      ],
      "metadata": {
        "colab": {
          "base_uri": "https://localhost:8080/"
        },
        "id": "tod88ookBlle",
        "outputId": "74e4a9e1-58e6-43e8-dfb4-ed66834fba5d"
      },
      "execution_count": 15,
      "outputs": [
        {
          "output_type": "execute_result",
          "data": {
            "text/plain": [
              "Index(['gene_1', 'gene_2', 'gene_3', 'gene_4', 'gene_5', 'gene_6', 'gene_7',\n",
              "       'gene_8', 'gene_9', 'gene_10',\n",
              "       ...\n",
              "       'gene_7991', 'gene_7992', 'gene_7993', 'gene_7994', 'gene_7995',\n",
              "       'gene_7996', 'gene_7997', 'gene_7998', 'gene_7999', 'gene_8000'],\n",
              "      dtype='object', length=8000)"
            ]
          },
          "metadata": {},
          "execution_count": 15
        }
      ]
    },
    {
      "cell_type": "code",
      "source": [
        "y = df.iloc[:,-1]\n",
        "y.name"
      ],
      "metadata": {
        "colab": {
          "base_uri": "https://localhost:8080/",
          "height": 35
        },
        "id": "WdEcobLVBvWD",
        "outputId": "a44ce9b3-b232-4a4c-f416-c401f74d9afd"
      },
      "execution_count": 19,
      "outputs": [
        {
          "output_type": "execute_result",
          "data": {
            "text/plain": [
              "'Cancer_Type'"
            ],
            "application/vnd.google.colaboratory.intrinsic+json": {
              "type": "string"
            }
          },
          "metadata": {},
          "execution_count": 19
        }
      ]
    },
    {
      "cell_type": "markdown",
      "source": [
        "## Encode Labels"
      ],
      "metadata": {
        "id": "6wqxNW7RDmiY"
      }
    },
    {
      "cell_type": "code",
      "source": [
        "label_encoder = LabelEncoder()"
      ],
      "metadata": {
        "id": "6U8QeLdLB1Jw"
      },
      "execution_count": 20,
      "outputs": []
    },
    {
      "cell_type": "code",
      "source": [
        "label_encoder.fit(y)\n",
        "y = label_encoder.transform(y)"
      ],
      "metadata": {
        "id": "fVGR--k-CDgF"
      },
      "execution_count": 21,
      "outputs": []
    },
    {
      "cell_type": "code",
      "source": [
        "labels = label_encoder.classes_\n",
        "classes = np.unique(y)\n",
        "nclasses = np.unique(y).shape[0]"
      ],
      "metadata": {
        "id": "0ZYQo7c5CM3c"
      },
      "execution_count": 22,
      "outputs": []
    },
    {
      "cell_type": "markdown",
      "source": [
        "## Splitting the Data"
      ],
      "metadata": {
        "id": "CkyxvMCDDrC7"
      }
    },
    {
      "cell_type": "code",
      "source": [
        "X_train, X_test, y_train, y_test = train_test_split(x, y, test_size = 0.2)\n",
        "\n",
        "X_train, X_val, y_train, y_val = train_test_split(X_train, y_train, test_size = 0.2)"
      ],
      "metadata": {
        "id": "AmB_Yu2UCY6P"
      },
      "execution_count": 25,
      "outputs": []
    },
    {
      "cell_type": "markdown",
      "source": [
        "## Normalization"
      ],
      "metadata": {
        "id": "cwuOzx6gDv_c"
      }
    },
    {
      "cell_type": "code",
      "source": [
        "min_max_scaler = MinMaxScaler()"
      ],
      "metadata": {
        "id": "mXqtnatRC-eo"
      },
      "execution_count": 26,
      "outputs": []
    },
    {
      "cell_type": "code",
      "source": [
        "X_train = min_max_scaler.fit_transform(X_train)\n",
        "X_val = min_max_scaler.fit_transform(X_val)\n",
        "X_test = min_max_scaler.fit_transform(X_test)"
      ],
      "metadata": {
        "id": "EIPPsHy4DJgZ"
      },
      "execution_count": 27,
      "outputs": []
    },
    {
      "cell_type": "markdown",
      "source": [
        "## Build The Model"
      ],
      "metadata": {
        "id": "LgEGw06MD0fa"
      }
    },
    {
      "cell_type": "code",
      "source": [
        "model = Sequential()\n",
        "\n",
        "model.add(Dense(40, input_dim = X_train.shape[1], activation = 'relu'))\n",
        "model.add(Dense(20, activation = 'relu'))\n",
        "model.add(Dense(nclasses, activation = 'softmax'))\n",
        "\n",
        "opt_adam = keras.optimizers.Adam(learning_rate = 0.001)\n",
        "\n",
        "model.compile(loss = tf.keras.losses.SparseCategoricalCrossentropy(), optimizer = opt_adam, metrics = [keras.metrics.SparseCategoricalAccuracy()])"
      ],
      "metadata": {
        "id": "jzq4NgEXDZkB"
      },
      "execution_count": 30,
      "outputs": []
    },
    {
      "cell_type": "code",
      "source": [
        "history = model.fit(X_train, y_train, validation_data=(X_val, y_val), batch_size = 32, epochs=200, verbose = 1)"
      ],
      "metadata": {
        "colab": {
          "base_uri": "https://localhost:8080/"
        },
        "id": "IaZy3cyNFOfh",
        "outputId": "33c2851f-532e-49b6-ffa1-f8d1d679cdfb"
      },
      "execution_count": 31,
      "outputs": [
        {
          "output_type": "stream",
          "name": "stdout",
          "text": [
            "Epoch 1/200\n",
            "16/16 [==============================] - 6s 16ms/step - loss: 1.3619 - sparse_categorical_accuracy: 0.4395 - val_loss: 1.2666 - val_sparse_categorical_accuracy: 0.6094\n",
            "Epoch 2/200\n",
            "16/16 [==============================] - 0s 6ms/step - loss: 0.9212 - sparse_categorical_accuracy: 0.6641 - val_loss: 0.7508 - val_sparse_categorical_accuracy: 0.7344\n",
            "Epoch 3/200\n",
            "16/16 [==============================] - 0s 6ms/step - loss: 0.5751 - sparse_categorical_accuracy: 0.9238 - val_loss: 0.4520 - val_sparse_categorical_accuracy: 0.8984\n",
            "Epoch 4/200\n",
            "16/16 [==============================] - 0s 6ms/step - loss: 0.3024 - sparse_categorical_accuracy: 0.9805 - val_loss: 0.2552 - val_sparse_categorical_accuracy: 0.9609\n",
            "Epoch 5/200\n",
            "16/16 [==============================] - 0s 5ms/step - loss: 0.1738 - sparse_categorical_accuracy: 0.9922 - val_loss: 0.1670 - val_sparse_categorical_accuracy: 0.9844\n",
            "Epoch 6/200\n",
            "16/16 [==============================] - 0s 6ms/step - loss: 0.1092 - sparse_categorical_accuracy: 0.9941 - val_loss: 0.1409 - val_sparse_categorical_accuracy: 0.9609\n",
            "Epoch 7/200\n",
            "16/16 [==============================] - 0s 6ms/step - loss: 0.0763 - sparse_categorical_accuracy: 0.9980 - val_loss: 0.1187 - val_sparse_categorical_accuracy: 0.9844\n",
            "Epoch 8/200\n",
            "16/16 [==============================] - 0s 5ms/step - loss: 0.0586 - sparse_categorical_accuracy: 0.9980 - val_loss: 0.1193 - val_sparse_categorical_accuracy: 0.9688\n",
            "Epoch 9/200\n",
            "16/16 [==============================] - 0s 6ms/step - loss: 0.0433 - sparse_categorical_accuracy: 0.9980 - val_loss: 0.0983 - val_sparse_categorical_accuracy: 0.9688\n",
            "Epoch 10/200\n",
            "16/16 [==============================] - 0s 5ms/step - loss: 0.0333 - sparse_categorical_accuracy: 1.0000 - val_loss: 0.0945 - val_sparse_categorical_accuracy: 0.9688\n",
            "Epoch 11/200\n",
            "16/16 [==============================] - 0s 7ms/step - loss: 0.0267 - sparse_categorical_accuracy: 1.0000 - val_loss: 0.0916 - val_sparse_categorical_accuracy: 0.9844\n",
            "Epoch 12/200\n",
            "16/16 [==============================] - 0s 6ms/step - loss: 0.0221 - sparse_categorical_accuracy: 1.0000 - val_loss: 0.0886 - val_sparse_categorical_accuracy: 0.9766\n",
            "Epoch 13/200\n",
            "16/16 [==============================] - 0s 5ms/step - loss: 0.0176 - sparse_categorical_accuracy: 1.0000 - val_loss: 0.0840 - val_sparse_categorical_accuracy: 0.9766\n",
            "Epoch 14/200\n",
            "16/16 [==============================] - 0s 6ms/step - loss: 0.0150 - sparse_categorical_accuracy: 1.0000 - val_loss: 0.0907 - val_sparse_categorical_accuracy: 0.9766\n",
            "Epoch 15/200\n",
            "16/16 [==============================] - 0s 7ms/step - loss: 0.0132 - sparse_categorical_accuracy: 1.0000 - val_loss: 0.0886 - val_sparse_categorical_accuracy: 0.9766\n",
            "Epoch 16/200\n",
            "16/16 [==============================] - 0s 6ms/step - loss: 0.0113 - sparse_categorical_accuracy: 1.0000 - val_loss: 0.0725 - val_sparse_categorical_accuracy: 0.9844\n",
            "Epoch 17/200\n",
            "16/16 [==============================] - 0s 5ms/step - loss: 0.0099 - sparse_categorical_accuracy: 1.0000 - val_loss: 0.0766 - val_sparse_categorical_accuracy: 0.9766\n",
            "Epoch 18/200\n",
            "16/16 [==============================] - 0s 5ms/step - loss: 0.0085 - sparse_categorical_accuracy: 1.0000 - val_loss: 0.0763 - val_sparse_categorical_accuracy: 0.9766\n",
            "Epoch 19/200\n",
            "16/16 [==============================] - 0s 6ms/step - loss: 0.0075 - sparse_categorical_accuracy: 1.0000 - val_loss: 0.0806 - val_sparse_categorical_accuracy: 0.9766\n",
            "Epoch 20/200\n",
            "16/16 [==============================] - 0s 5ms/step - loss: 0.0066 - sparse_categorical_accuracy: 1.0000 - val_loss: 0.0778 - val_sparse_categorical_accuracy: 0.9766\n",
            "Epoch 21/200\n",
            "16/16 [==============================] - 0s 6ms/step - loss: 0.0060 - sparse_categorical_accuracy: 1.0000 - val_loss: 0.0729 - val_sparse_categorical_accuracy: 0.9766\n",
            "Epoch 22/200\n",
            "16/16 [==============================] - 0s 5ms/step - loss: 0.0054 - sparse_categorical_accuracy: 1.0000 - val_loss: 0.0820 - val_sparse_categorical_accuracy: 0.9766\n",
            "Epoch 23/200\n",
            "16/16 [==============================] - 0s 6ms/step - loss: 0.0051 - sparse_categorical_accuracy: 1.0000 - val_loss: 0.0711 - val_sparse_categorical_accuracy: 0.9844\n",
            "Epoch 24/200\n",
            "16/16 [==============================] - 0s 6ms/step - loss: 0.0045 - sparse_categorical_accuracy: 1.0000 - val_loss: 0.0777 - val_sparse_categorical_accuracy: 0.9766\n",
            "Epoch 25/200\n",
            "16/16 [==============================] - 0s 6ms/step - loss: 0.0041 - sparse_categorical_accuracy: 1.0000 - val_loss: 0.0727 - val_sparse_categorical_accuracy: 0.9844\n",
            "Epoch 26/200\n",
            "16/16 [==============================] - 0s 5ms/step - loss: 0.0038 - sparse_categorical_accuracy: 1.0000 - val_loss: 0.0754 - val_sparse_categorical_accuracy: 0.9766\n",
            "Epoch 27/200\n",
            "16/16 [==============================] - 0s 5ms/step - loss: 0.0035 - sparse_categorical_accuracy: 1.0000 - val_loss: 0.0741 - val_sparse_categorical_accuracy: 0.9766\n",
            "Epoch 28/200\n",
            "16/16 [==============================] - 0s 6ms/step - loss: 0.0033 - sparse_categorical_accuracy: 1.0000 - val_loss: 0.0693 - val_sparse_categorical_accuracy: 0.9844\n",
            "Epoch 29/200\n",
            "16/16 [==============================] - 0s 6ms/step - loss: 0.0031 - sparse_categorical_accuracy: 1.0000 - val_loss: 0.0746 - val_sparse_categorical_accuracy: 0.9766\n",
            "Epoch 30/200\n",
            "16/16 [==============================] - 0s 6ms/step - loss: 0.0028 - sparse_categorical_accuracy: 1.0000 - val_loss: 0.0722 - val_sparse_categorical_accuracy: 0.9844\n",
            "Epoch 31/200\n",
            "16/16 [==============================] - 0s 5ms/step - loss: 0.0026 - sparse_categorical_accuracy: 1.0000 - val_loss: 0.0746 - val_sparse_categorical_accuracy: 0.9766\n",
            "Epoch 32/200\n",
            "16/16 [==============================] - 0s 9ms/step - loss: 0.0025 - sparse_categorical_accuracy: 1.0000 - val_loss: 0.0704 - val_sparse_categorical_accuracy: 0.9844\n",
            "Epoch 33/200\n",
            "16/16 [==============================] - 0s 5ms/step - loss: 0.0023 - sparse_categorical_accuracy: 1.0000 - val_loss: 0.0760 - val_sparse_categorical_accuracy: 0.9766\n",
            "Epoch 34/200\n",
            "16/16 [==============================] - 0s 5ms/step - loss: 0.0022 - sparse_categorical_accuracy: 1.0000 - val_loss: 0.0709 - val_sparse_categorical_accuracy: 0.9844\n",
            "Epoch 35/200\n",
            "16/16 [==============================] - 0s 6ms/step - loss: 0.0020 - sparse_categorical_accuracy: 1.0000 - val_loss: 0.0739 - val_sparse_categorical_accuracy: 0.9844\n",
            "Epoch 36/200\n",
            "16/16 [==============================] - 0s 6ms/step - loss: 0.0019 - sparse_categorical_accuracy: 1.0000 - val_loss: 0.0745 - val_sparse_categorical_accuracy: 0.9766\n",
            "Epoch 37/200\n",
            "16/16 [==============================] - 0s 6ms/step - loss: 0.0018 - sparse_categorical_accuracy: 1.0000 - val_loss: 0.0713 - val_sparse_categorical_accuracy: 0.9844\n",
            "Epoch 38/200\n",
            "16/16 [==============================] - 0s 5ms/step - loss: 0.0017 - sparse_categorical_accuracy: 1.0000 - val_loss: 0.0733 - val_sparse_categorical_accuracy: 0.9844\n",
            "Epoch 39/200\n",
            "16/16 [==============================] - 0s 5ms/step - loss: 0.0016 - sparse_categorical_accuracy: 1.0000 - val_loss: 0.0737 - val_sparse_categorical_accuracy: 0.9844\n",
            "Epoch 40/200\n",
            "16/16 [==============================] - 0s 6ms/step - loss: 0.0016 - sparse_categorical_accuracy: 1.0000 - val_loss: 0.0710 - val_sparse_categorical_accuracy: 0.9844\n",
            "Epoch 41/200\n",
            "16/16 [==============================] - 0s 6ms/step - loss: 0.0015 - sparse_categorical_accuracy: 1.0000 - val_loss: 0.0732 - val_sparse_categorical_accuracy: 0.9844\n",
            "Epoch 42/200\n",
            "16/16 [==============================] - 0s 5ms/step - loss: 0.0014 - sparse_categorical_accuracy: 1.0000 - val_loss: 0.0716 - val_sparse_categorical_accuracy: 0.9844\n",
            "Epoch 43/200\n",
            "16/16 [==============================] - 0s 6ms/step - loss: 0.0013 - sparse_categorical_accuracy: 1.0000 - val_loss: 0.0720 - val_sparse_categorical_accuracy: 0.9844\n",
            "Epoch 44/200\n",
            "16/16 [==============================] - 0s 5ms/step - loss: 0.0013 - sparse_categorical_accuracy: 1.0000 - val_loss: 0.0721 - val_sparse_categorical_accuracy: 0.9844\n",
            "Epoch 45/200\n",
            "16/16 [==============================] - 0s 5ms/step - loss: 0.0012 - sparse_categorical_accuracy: 1.0000 - val_loss: 0.0728 - val_sparse_categorical_accuracy: 0.9844\n",
            "Epoch 46/200\n",
            "16/16 [==============================] - 0s 5ms/step - loss: 0.0011 - sparse_categorical_accuracy: 1.0000 - val_loss: 0.0700 - val_sparse_categorical_accuracy: 0.9844\n",
            "Epoch 47/200\n",
            "16/16 [==============================] - 0s 5ms/step - loss: 0.0011 - sparse_categorical_accuracy: 1.0000 - val_loss: 0.0713 - val_sparse_categorical_accuracy: 0.9844\n",
            "Epoch 48/200\n",
            "16/16 [==============================] - 0s 6ms/step - loss: 0.0010 - sparse_categorical_accuracy: 1.0000 - val_loss: 0.0723 - val_sparse_categorical_accuracy: 0.9844\n",
            "Epoch 49/200\n",
            "16/16 [==============================] - 0s 6ms/step - loss: 0.0010 - sparse_categorical_accuracy: 1.0000 - val_loss: 0.0704 - val_sparse_categorical_accuracy: 0.9844\n",
            "Epoch 50/200\n",
            "16/16 [==============================] - 0s 6ms/step - loss: 9.8104e-04 - sparse_categorical_accuracy: 1.0000 - val_loss: 0.0696 - val_sparse_categorical_accuracy: 0.9844\n",
            "Epoch 51/200\n",
            "16/16 [==============================] - 0s 6ms/step - loss: 9.3225e-04 - sparse_categorical_accuracy: 1.0000 - val_loss: 0.0726 - val_sparse_categorical_accuracy: 0.9844\n",
            "Epoch 52/200\n",
            "16/16 [==============================] - 0s 6ms/step - loss: 8.8960e-04 - sparse_categorical_accuracy: 1.0000 - val_loss: 0.0690 - val_sparse_categorical_accuracy: 0.9844\n",
            "Epoch 53/200\n",
            "16/16 [==============================] - 0s 6ms/step - loss: 8.5074e-04 - sparse_categorical_accuracy: 1.0000 - val_loss: 0.0708 - val_sparse_categorical_accuracy: 0.9844\n",
            "Epoch 54/200\n",
            "16/16 [==============================] - 0s 6ms/step - loss: 8.1767e-04 - sparse_categorical_accuracy: 1.0000 - val_loss: 0.0713 - val_sparse_categorical_accuracy: 0.9844\n",
            "Epoch 55/200\n",
            "16/16 [==============================] - 0s 6ms/step - loss: 7.9092e-04 - sparse_categorical_accuracy: 1.0000 - val_loss: 0.0710 - val_sparse_categorical_accuracy: 0.9844\n",
            "Epoch 56/200\n",
            "16/16 [==============================] - 0s 6ms/step - loss: 7.5951e-04 - sparse_categorical_accuracy: 1.0000 - val_loss: 0.0695 - val_sparse_categorical_accuracy: 0.9844\n",
            "Epoch 57/200\n",
            "16/16 [==============================] - 0s 6ms/step - loss: 7.3137e-04 - sparse_categorical_accuracy: 1.0000 - val_loss: 0.0702 - val_sparse_categorical_accuracy: 0.9844\n",
            "Epoch 58/200\n",
            "16/16 [==============================] - 0s 6ms/step - loss: 7.0755e-04 - sparse_categorical_accuracy: 1.0000 - val_loss: 0.0730 - val_sparse_categorical_accuracy: 0.9844\n",
            "Epoch 59/200\n",
            "16/16 [==============================] - 0s 6ms/step - loss: 6.9048e-04 - sparse_categorical_accuracy: 1.0000 - val_loss: 0.0679 - val_sparse_categorical_accuracy: 0.9844\n",
            "Epoch 60/200\n",
            "16/16 [==============================] - 0s 6ms/step - loss: 6.5330e-04 - sparse_categorical_accuracy: 1.0000 - val_loss: 0.0709 - val_sparse_categorical_accuracy: 0.9844\n",
            "Epoch 61/200\n",
            "16/16 [==============================] - 0s 6ms/step - loss: 6.3456e-04 - sparse_categorical_accuracy: 1.0000 - val_loss: 0.0726 - val_sparse_categorical_accuracy: 0.9844\n",
            "Epoch 62/200\n",
            "16/16 [==============================] - 0s 7ms/step - loss: 6.1245e-04 - sparse_categorical_accuracy: 1.0000 - val_loss: 0.0693 - val_sparse_categorical_accuracy: 0.9844\n",
            "Epoch 63/200\n",
            "16/16 [==============================] - 0s 6ms/step - loss: 5.8959e-04 - sparse_categorical_accuracy: 1.0000 - val_loss: 0.0706 - val_sparse_categorical_accuracy: 0.9844\n",
            "Epoch 64/200\n",
            "16/16 [==============================] - 0s 6ms/step - loss: 5.7087e-04 - sparse_categorical_accuracy: 1.0000 - val_loss: 0.0709 - val_sparse_categorical_accuracy: 0.9844\n",
            "Epoch 65/200\n",
            "16/16 [==============================] - 0s 6ms/step - loss: 5.5400e-04 - sparse_categorical_accuracy: 1.0000 - val_loss: 0.0699 - val_sparse_categorical_accuracy: 0.9844\n",
            "Epoch 66/200\n",
            "16/16 [==============================] - 0s 5ms/step - loss: 5.3529e-04 - sparse_categorical_accuracy: 1.0000 - val_loss: 0.0701 - val_sparse_categorical_accuracy: 0.9844\n",
            "Epoch 67/200\n",
            "16/16 [==============================] - 0s 6ms/step - loss: 5.2733e-04 - sparse_categorical_accuracy: 1.0000 - val_loss: 0.0703 - val_sparse_categorical_accuracy: 0.9844\n",
            "Epoch 68/200\n",
            "16/16 [==============================] - 0s 5ms/step - loss: 5.0305e-04 - sparse_categorical_accuracy: 1.0000 - val_loss: 0.0710 - val_sparse_categorical_accuracy: 0.9844\n",
            "Epoch 69/200\n",
            "16/16 [==============================] - 0s 5ms/step - loss: 4.8814e-04 - sparse_categorical_accuracy: 1.0000 - val_loss: 0.0696 - val_sparse_categorical_accuracy: 0.9844\n",
            "Epoch 70/200\n",
            "16/16 [==============================] - 0s 6ms/step - loss: 4.7272e-04 - sparse_categorical_accuracy: 1.0000 - val_loss: 0.0715 - val_sparse_categorical_accuracy: 0.9844\n",
            "Epoch 71/200\n",
            "16/16 [==============================] - 0s 6ms/step - loss: 4.6395e-04 - sparse_categorical_accuracy: 1.0000 - val_loss: 0.0689 - val_sparse_categorical_accuracy: 0.9844\n",
            "Epoch 72/200\n",
            "16/16 [==============================] - 0s 6ms/step - loss: 4.5014e-04 - sparse_categorical_accuracy: 1.0000 - val_loss: 0.0725 - val_sparse_categorical_accuracy: 0.9844\n",
            "Epoch 73/200\n",
            "16/16 [==============================] - 0s 6ms/step - loss: 4.3305e-04 - sparse_categorical_accuracy: 1.0000 - val_loss: 0.0690 - val_sparse_categorical_accuracy: 0.9844\n",
            "Epoch 74/200\n",
            "16/16 [==============================] - 0s 5ms/step - loss: 4.2045e-04 - sparse_categorical_accuracy: 1.0000 - val_loss: 0.0708 - val_sparse_categorical_accuracy: 0.9844\n",
            "Epoch 75/200\n",
            "16/16 [==============================] - 0s 6ms/step - loss: 4.0776e-04 - sparse_categorical_accuracy: 1.0000 - val_loss: 0.0694 - val_sparse_categorical_accuracy: 0.9844\n",
            "Epoch 76/200\n",
            "16/16 [==============================] - 0s 5ms/step - loss: 3.9886e-04 - sparse_categorical_accuracy: 1.0000 - val_loss: 0.0707 - val_sparse_categorical_accuracy: 0.9844\n",
            "Epoch 77/200\n",
            "16/16 [==============================] - 0s 5ms/step - loss: 3.8618e-04 - sparse_categorical_accuracy: 1.0000 - val_loss: 0.0689 - val_sparse_categorical_accuracy: 0.9844\n",
            "Epoch 78/200\n",
            "16/16 [==============================] - 0s 6ms/step - loss: 3.7496e-04 - sparse_categorical_accuracy: 1.0000 - val_loss: 0.0706 - val_sparse_categorical_accuracy: 0.9844\n",
            "Epoch 79/200\n",
            "16/16 [==============================] - 0s 6ms/step - loss: 3.6606e-04 - sparse_categorical_accuracy: 1.0000 - val_loss: 0.0694 - val_sparse_categorical_accuracy: 0.9844\n",
            "Epoch 80/200\n",
            "16/16 [==============================] - 0s 6ms/step - loss: 3.5498e-04 - sparse_categorical_accuracy: 1.0000 - val_loss: 0.0710 - val_sparse_categorical_accuracy: 0.9844\n",
            "Epoch 81/200\n",
            "16/16 [==============================] - 0s 5ms/step - loss: 3.4596e-04 - sparse_categorical_accuracy: 1.0000 - val_loss: 0.0693 - val_sparse_categorical_accuracy: 0.9844\n",
            "Epoch 82/200\n",
            "16/16 [==============================] - 0s 5ms/step - loss: 3.3636e-04 - sparse_categorical_accuracy: 1.0000 - val_loss: 0.0691 - val_sparse_categorical_accuracy: 0.9844\n",
            "Epoch 83/200\n",
            "16/16 [==============================] - 0s 6ms/step - loss: 3.2835e-04 - sparse_categorical_accuracy: 1.0000 - val_loss: 0.0710 - val_sparse_categorical_accuracy: 0.9844\n",
            "Epoch 84/200\n",
            "16/16 [==============================] - 0s 6ms/step - loss: 3.1909e-04 - sparse_categorical_accuracy: 1.0000 - val_loss: 0.0700 - val_sparse_categorical_accuracy: 0.9844\n",
            "Epoch 85/200\n",
            "16/16 [==============================] - 0s 5ms/step - loss: 3.1238e-04 - sparse_categorical_accuracy: 1.0000 - val_loss: 0.0711 - val_sparse_categorical_accuracy: 0.9844\n",
            "Epoch 86/200\n",
            "16/16 [==============================] - 0s 5ms/step - loss: 3.0443e-04 - sparse_categorical_accuracy: 1.0000 - val_loss: 0.0689 - val_sparse_categorical_accuracy: 0.9844\n",
            "Epoch 87/200\n",
            "16/16 [==============================] - 0s 5ms/step - loss: 2.9583e-04 - sparse_categorical_accuracy: 1.0000 - val_loss: 0.0709 - val_sparse_categorical_accuracy: 0.9844\n",
            "Epoch 88/200\n",
            "16/16 [==============================] - 0s 6ms/step - loss: 2.8872e-04 - sparse_categorical_accuracy: 1.0000 - val_loss: 0.0709 - val_sparse_categorical_accuracy: 0.9844\n",
            "Epoch 89/200\n",
            "16/16 [==============================] - 0s 6ms/step - loss: 2.8209e-04 - sparse_categorical_accuracy: 1.0000 - val_loss: 0.0706 - val_sparse_categorical_accuracy: 0.9844\n",
            "Epoch 90/200\n",
            "16/16 [==============================] - 0s 5ms/step - loss: 2.7515e-04 - sparse_categorical_accuracy: 1.0000 - val_loss: 0.0702 - val_sparse_categorical_accuracy: 0.9844\n",
            "Epoch 91/200\n",
            "16/16 [==============================] - 0s 10ms/step - loss: 2.6976e-04 - sparse_categorical_accuracy: 1.0000 - val_loss: 0.0688 - val_sparse_categorical_accuracy: 0.9844\n",
            "Epoch 92/200\n",
            "16/16 [==============================] - 0s 8ms/step - loss: 2.6189e-04 - sparse_categorical_accuracy: 1.0000 - val_loss: 0.0708 - val_sparse_categorical_accuracy: 0.9844\n",
            "Epoch 93/200\n",
            "16/16 [==============================] - 0s 8ms/step - loss: 2.5676e-04 - sparse_categorical_accuracy: 1.0000 - val_loss: 0.0709 - val_sparse_categorical_accuracy: 0.9844\n",
            "Epoch 94/200\n",
            "16/16 [==============================] - 0s 8ms/step - loss: 2.4960e-04 - sparse_categorical_accuracy: 1.0000 - val_loss: 0.0697 - val_sparse_categorical_accuracy: 0.9844\n",
            "Epoch 95/200\n",
            "16/16 [==============================] - 0s 7ms/step - loss: 2.4498e-04 - sparse_categorical_accuracy: 1.0000 - val_loss: 0.0702 - val_sparse_categorical_accuracy: 0.9844\n",
            "Epoch 96/200\n",
            "16/16 [==============================] - 0s 6ms/step - loss: 2.3938e-04 - sparse_categorical_accuracy: 1.0000 - val_loss: 0.0699 - val_sparse_categorical_accuracy: 0.9844\n",
            "Epoch 97/200\n",
            "16/16 [==============================] - 0s 7ms/step - loss: 2.3382e-04 - sparse_categorical_accuracy: 1.0000 - val_loss: 0.0701 - val_sparse_categorical_accuracy: 0.9844\n",
            "Epoch 98/200\n",
            "16/16 [==============================] - 0s 7ms/step - loss: 2.2953e-04 - sparse_categorical_accuracy: 1.0000 - val_loss: 0.0721 - val_sparse_categorical_accuracy: 0.9844\n",
            "Epoch 99/200\n",
            "16/16 [==============================] - 0s 8ms/step - loss: 2.2386e-04 - sparse_categorical_accuracy: 1.0000 - val_loss: 0.0699 - val_sparse_categorical_accuracy: 0.9844\n",
            "Epoch 100/200\n",
            "16/16 [==============================] - 0s 8ms/step - loss: 2.1823e-04 - sparse_categorical_accuracy: 1.0000 - val_loss: 0.0696 - val_sparse_categorical_accuracy: 0.9844\n",
            "Epoch 101/200\n",
            "16/16 [==============================] - 0s 8ms/step - loss: 2.1411e-04 - sparse_categorical_accuracy: 1.0000 - val_loss: 0.0696 - val_sparse_categorical_accuracy: 0.9844\n",
            "Epoch 102/200\n",
            "16/16 [==============================] - 0s 7ms/step - loss: 2.0928e-04 - sparse_categorical_accuracy: 1.0000 - val_loss: 0.0713 - val_sparse_categorical_accuracy: 0.9844\n",
            "Epoch 103/200\n",
            "16/16 [==============================] - 0s 8ms/step - loss: 2.0528e-04 - sparse_categorical_accuracy: 1.0000 - val_loss: 0.0703 - val_sparse_categorical_accuracy: 0.9844\n",
            "Epoch 104/200\n",
            "16/16 [==============================] - 0s 8ms/step - loss: 2.0012e-04 - sparse_categorical_accuracy: 1.0000 - val_loss: 0.0699 - val_sparse_categorical_accuracy: 0.9844\n",
            "Epoch 105/200\n",
            "16/16 [==============================] - 0s 7ms/step - loss: 1.9612e-04 - sparse_categorical_accuracy: 1.0000 - val_loss: 0.0691 - val_sparse_categorical_accuracy: 0.9844\n",
            "Epoch 106/200\n",
            "16/16 [==============================] - 0s 8ms/step - loss: 1.9206e-04 - sparse_categorical_accuracy: 1.0000 - val_loss: 0.0696 - val_sparse_categorical_accuracy: 0.9844\n",
            "Epoch 107/200\n",
            "16/16 [==============================] - 0s 8ms/step - loss: 1.8840e-04 - sparse_categorical_accuracy: 1.0000 - val_loss: 0.0701 - val_sparse_categorical_accuracy: 0.9844\n",
            "Epoch 108/200\n",
            "16/16 [==============================] - 0s 10ms/step - loss: 1.8438e-04 - sparse_categorical_accuracy: 1.0000 - val_loss: 0.0706 - val_sparse_categorical_accuracy: 0.9844\n",
            "Epoch 109/200\n",
            "16/16 [==============================] - 0s 8ms/step - loss: 1.8046e-04 - sparse_categorical_accuracy: 1.0000 - val_loss: 0.0703 - val_sparse_categorical_accuracy: 0.9844\n",
            "Epoch 110/200\n",
            "16/16 [==============================] - 0s 7ms/step - loss: 1.7667e-04 - sparse_categorical_accuracy: 1.0000 - val_loss: 0.0702 - val_sparse_categorical_accuracy: 0.9844\n",
            "Epoch 111/200\n",
            "16/16 [==============================] - 0s 5ms/step - loss: 1.7317e-04 - sparse_categorical_accuracy: 1.0000 - val_loss: 0.0702 - val_sparse_categorical_accuracy: 0.9844\n",
            "Epoch 112/200\n",
            "16/16 [==============================] - 0s 6ms/step - loss: 1.7019e-04 - sparse_categorical_accuracy: 1.0000 - val_loss: 0.0702 - val_sparse_categorical_accuracy: 0.9844\n",
            "Epoch 113/200\n",
            "16/16 [==============================] - 0s 5ms/step - loss: 1.6671e-04 - sparse_categorical_accuracy: 1.0000 - val_loss: 0.0712 - val_sparse_categorical_accuracy: 0.9844\n",
            "Epoch 114/200\n",
            "16/16 [==============================] - 0s 5ms/step - loss: 1.6361e-04 - sparse_categorical_accuracy: 1.0000 - val_loss: 0.0703 - val_sparse_categorical_accuracy: 0.9844\n",
            "Epoch 115/200\n",
            "16/16 [==============================] - 0s 6ms/step - loss: 1.6046e-04 - sparse_categorical_accuracy: 1.0000 - val_loss: 0.0702 - val_sparse_categorical_accuracy: 0.9844\n",
            "Epoch 116/200\n",
            "16/16 [==============================] - 0s 6ms/step - loss: 1.5700e-04 - sparse_categorical_accuracy: 1.0000 - val_loss: 0.0707 - val_sparse_categorical_accuracy: 0.9844\n",
            "Epoch 117/200\n",
            "16/16 [==============================] - 0s 5ms/step - loss: 1.5429e-04 - sparse_categorical_accuracy: 1.0000 - val_loss: 0.0711 - val_sparse_categorical_accuracy: 0.9844\n",
            "Epoch 118/200\n",
            "16/16 [==============================] - 0s 7ms/step - loss: 1.5134e-04 - sparse_categorical_accuracy: 1.0000 - val_loss: 0.0707 - val_sparse_categorical_accuracy: 0.9844\n",
            "Epoch 119/200\n",
            "16/16 [==============================] - 0s 7ms/step - loss: 1.4847e-04 - sparse_categorical_accuracy: 1.0000 - val_loss: 0.0705 - val_sparse_categorical_accuracy: 0.9844\n",
            "Epoch 120/200\n",
            "16/16 [==============================] - 0s 5ms/step - loss: 1.4592e-04 - sparse_categorical_accuracy: 1.0000 - val_loss: 0.0700 - val_sparse_categorical_accuracy: 0.9844\n",
            "Epoch 121/200\n",
            "16/16 [==============================] - 0s 5ms/step - loss: 1.4282e-04 - sparse_categorical_accuracy: 1.0000 - val_loss: 0.0698 - val_sparse_categorical_accuracy: 0.9844\n",
            "Epoch 122/200\n",
            "16/16 [==============================] - 0s 5ms/step - loss: 1.4029e-04 - sparse_categorical_accuracy: 1.0000 - val_loss: 0.0701 - val_sparse_categorical_accuracy: 0.9844\n",
            "Epoch 123/200\n",
            "16/16 [==============================] - 0s 6ms/step - loss: 1.3779e-04 - sparse_categorical_accuracy: 1.0000 - val_loss: 0.0704 - val_sparse_categorical_accuracy: 0.9844\n",
            "Epoch 124/200\n",
            "16/16 [==============================] - 0s 5ms/step - loss: 1.3521e-04 - sparse_categorical_accuracy: 1.0000 - val_loss: 0.0710 - val_sparse_categorical_accuracy: 0.9844\n",
            "Epoch 125/200\n",
            "16/16 [==============================] - 0s 5ms/step - loss: 1.3306e-04 - sparse_categorical_accuracy: 1.0000 - val_loss: 0.0708 - val_sparse_categorical_accuracy: 0.9844\n",
            "Epoch 126/200\n",
            "16/16 [==============================] - 0s 5ms/step - loss: 1.3044e-04 - sparse_categorical_accuracy: 1.0000 - val_loss: 0.0704 - val_sparse_categorical_accuracy: 0.9844\n",
            "Epoch 127/200\n",
            "16/16 [==============================] - 0s 7ms/step - loss: 1.2821e-04 - sparse_categorical_accuracy: 1.0000 - val_loss: 0.0707 - val_sparse_categorical_accuracy: 0.9844\n",
            "Epoch 128/200\n",
            "16/16 [==============================] - 0s 5ms/step - loss: 1.2606e-04 - sparse_categorical_accuracy: 1.0000 - val_loss: 0.0704 - val_sparse_categorical_accuracy: 0.9844\n",
            "Epoch 129/200\n",
            "16/16 [==============================] - 0s 6ms/step - loss: 1.2372e-04 - sparse_categorical_accuracy: 1.0000 - val_loss: 0.0709 - val_sparse_categorical_accuracy: 0.9844\n",
            "Epoch 130/200\n",
            "16/16 [==============================] - 0s 6ms/step - loss: 1.2164e-04 - sparse_categorical_accuracy: 1.0000 - val_loss: 0.0713 - val_sparse_categorical_accuracy: 0.9844\n",
            "Epoch 131/200\n",
            "16/16 [==============================] - 0s 6ms/step - loss: 1.1933e-04 - sparse_categorical_accuracy: 1.0000 - val_loss: 0.0704 - val_sparse_categorical_accuracy: 0.9844\n",
            "Epoch 132/200\n",
            "16/16 [==============================] - 0s 5ms/step - loss: 1.1731e-04 - sparse_categorical_accuracy: 1.0000 - val_loss: 0.0712 - val_sparse_categorical_accuracy: 0.9844\n",
            "Epoch 133/200\n",
            "16/16 [==============================] - 0s 5ms/step - loss: 1.1527e-04 - sparse_categorical_accuracy: 1.0000 - val_loss: 0.0709 - val_sparse_categorical_accuracy: 0.9844\n",
            "Epoch 134/200\n",
            "16/16 [==============================] - 0s 5ms/step - loss: 1.1342e-04 - sparse_categorical_accuracy: 1.0000 - val_loss: 0.0703 - val_sparse_categorical_accuracy: 0.9844\n",
            "Epoch 135/200\n",
            "16/16 [==============================] - 0s 6ms/step - loss: 1.1177e-04 - sparse_categorical_accuracy: 1.0000 - val_loss: 0.0711 - val_sparse_categorical_accuracy: 0.9844\n",
            "Epoch 136/200\n",
            "16/16 [==============================] - 0s 6ms/step - loss: 1.0948e-04 - sparse_categorical_accuracy: 1.0000 - val_loss: 0.0710 - val_sparse_categorical_accuracy: 0.9844\n",
            "Epoch 137/200\n",
            "16/16 [==============================] - 0s 5ms/step - loss: 1.0796e-04 - sparse_categorical_accuracy: 1.0000 - val_loss: 0.0720 - val_sparse_categorical_accuracy: 0.9844\n",
            "Epoch 138/200\n",
            "16/16 [==============================] - 0s 6ms/step - loss: 1.0594e-04 - sparse_categorical_accuracy: 1.0000 - val_loss: 0.0706 - val_sparse_categorical_accuracy: 0.9844\n",
            "Epoch 139/200\n",
            "16/16 [==============================] - 0s 6ms/step - loss: 1.0432e-04 - sparse_categorical_accuracy: 1.0000 - val_loss: 0.0706 - val_sparse_categorical_accuracy: 0.9844\n",
            "Epoch 140/200\n",
            "16/16 [==============================] - 0s 6ms/step - loss: 1.0237e-04 - sparse_categorical_accuracy: 1.0000 - val_loss: 0.0711 - val_sparse_categorical_accuracy: 0.9844\n",
            "Epoch 141/200\n",
            "16/16 [==============================] - 0s 5ms/step - loss: 1.0083e-04 - sparse_categorical_accuracy: 1.0000 - val_loss: 0.0714 - val_sparse_categorical_accuracy: 0.9844\n",
            "Epoch 142/200\n",
            "16/16 [==============================] - 0s 6ms/step - loss: 9.9098e-05 - sparse_categorical_accuracy: 1.0000 - val_loss: 0.0704 - val_sparse_categorical_accuracy: 0.9844\n",
            "Epoch 143/200\n",
            "16/16 [==============================] - 0s 7ms/step - loss: 9.7458e-05 - sparse_categorical_accuracy: 1.0000 - val_loss: 0.0713 - val_sparse_categorical_accuracy: 0.9844\n",
            "Epoch 144/200\n",
            "16/16 [==============================] - 0s 6ms/step - loss: 9.5941e-05 - sparse_categorical_accuracy: 1.0000 - val_loss: 0.0712 - val_sparse_categorical_accuracy: 0.9844\n",
            "Epoch 145/200\n",
            "16/16 [==============================] - 0s 6ms/step - loss: 9.4326e-05 - sparse_categorical_accuracy: 1.0000 - val_loss: 0.0711 - val_sparse_categorical_accuracy: 0.9844\n",
            "Epoch 146/200\n",
            "16/16 [==============================] - 0s 6ms/step - loss: 9.2844e-05 - sparse_categorical_accuracy: 1.0000 - val_loss: 0.0712 - val_sparse_categorical_accuracy: 0.9844\n",
            "Epoch 147/200\n",
            "16/16 [==============================] - 0s 5ms/step - loss: 9.1468e-05 - sparse_categorical_accuracy: 1.0000 - val_loss: 0.0719 - val_sparse_categorical_accuracy: 0.9844\n",
            "Epoch 148/200\n",
            "16/16 [==============================] - 0s 5ms/step - loss: 8.9862e-05 - sparse_categorical_accuracy: 1.0000 - val_loss: 0.0708 - val_sparse_categorical_accuracy: 0.9844\n",
            "Epoch 149/200\n",
            "16/16 [==============================] - 0s 5ms/step - loss: 8.8441e-05 - sparse_categorical_accuracy: 1.0000 - val_loss: 0.0715 - val_sparse_categorical_accuracy: 0.9844\n",
            "Epoch 150/200\n",
            "16/16 [==============================] - 0s 7ms/step - loss: 8.7280e-05 - sparse_categorical_accuracy: 1.0000 - val_loss: 0.0703 - val_sparse_categorical_accuracy: 0.9844\n",
            "Epoch 151/200\n",
            "16/16 [==============================] - 0s 6ms/step - loss: 8.5889e-05 - sparse_categorical_accuracy: 1.0000 - val_loss: 0.0722 - val_sparse_categorical_accuracy: 0.9844\n",
            "Epoch 152/200\n",
            "16/16 [==============================] - 0s 6ms/step - loss: 8.4494e-05 - sparse_categorical_accuracy: 1.0000 - val_loss: 0.0712 - val_sparse_categorical_accuracy: 0.9844\n",
            "Epoch 153/200\n",
            "16/16 [==============================] - 0s 6ms/step - loss: 8.3177e-05 - sparse_categorical_accuracy: 1.0000 - val_loss: 0.0715 - val_sparse_categorical_accuracy: 0.9844\n",
            "Epoch 154/200\n",
            "16/16 [==============================] - 0s 6ms/step - loss: 8.1947e-05 - sparse_categorical_accuracy: 1.0000 - val_loss: 0.0715 - val_sparse_categorical_accuracy: 0.9844\n",
            "Epoch 155/200\n",
            "16/16 [==============================] - 0s 6ms/step - loss: 8.0721e-05 - sparse_categorical_accuracy: 1.0000 - val_loss: 0.0707 - val_sparse_categorical_accuracy: 0.9844\n",
            "Epoch 156/200\n",
            "16/16 [==============================] - 0s 6ms/step - loss: 7.9306e-05 - sparse_categorical_accuracy: 1.0000 - val_loss: 0.0715 - val_sparse_categorical_accuracy: 0.9844\n",
            "Epoch 157/200\n",
            "16/16 [==============================] - 0s 6ms/step - loss: 7.8143e-05 - sparse_categorical_accuracy: 1.0000 - val_loss: 0.0714 - val_sparse_categorical_accuracy: 0.9844\n",
            "Epoch 158/200\n",
            "16/16 [==============================] - 0s 6ms/step - loss: 7.6789e-05 - sparse_categorical_accuracy: 1.0000 - val_loss: 0.0717 - val_sparse_categorical_accuracy: 0.9844\n",
            "Epoch 159/200\n",
            "16/16 [==============================] - 0s 6ms/step - loss: 7.5698e-05 - sparse_categorical_accuracy: 1.0000 - val_loss: 0.0712 - val_sparse_categorical_accuracy: 0.9844\n",
            "Epoch 160/200\n",
            "16/16 [==============================] - 0s 6ms/step - loss: 7.4550e-05 - sparse_categorical_accuracy: 1.0000 - val_loss: 0.0711 - val_sparse_categorical_accuracy: 0.9844\n",
            "Epoch 161/200\n",
            "16/16 [==============================] - 0s 5ms/step - loss: 7.3733e-05 - sparse_categorical_accuracy: 1.0000 - val_loss: 0.0720 - val_sparse_categorical_accuracy: 0.9844\n",
            "Epoch 162/200\n",
            "16/16 [==============================] - 0s 5ms/step - loss: 7.2439e-05 - sparse_categorical_accuracy: 1.0000 - val_loss: 0.0708 - val_sparse_categorical_accuracy: 0.9844\n",
            "Epoch 163/200\n",
            "16/16 [==============================] - 0s 6ms/step - loss: 7.1301e-05 - sparse_categorical_accuracy: 1.0000 - val_loss: 0.0711 - val_sparse_categorical_accuracy: 0.9844\n",
            "Epoch 164/200\n",
            "16/16 [==============================] - 0s 5ms/step - loss: 7.0503e-05 - sparse_categorical_accuracy: 1.0000 - val_loss: 0.0707 - val_sparse_categorical_accuracy: 0.9844\n",
            "Epoch 165/200\n",
            "16/16 [==============================] - 0s 6ms/step - loss: 6.9461e-05 - sparse_categorical_accuracy: 1.0000 - val_loss: 0.0720 - val_sparse_categorical_accuracy: 0.9844\n",
            "Epoch 166/200\n",
            "16/16 [==============================] - 0s 6ms/step - loss: 6.8534e-05 - sparse_categorical_accuracy: 1.0000 - val_loss: 0.0724 - val_sparse_categorical_accuracy: 0.9844\n",
            "Epoch 167/200\n",
            "16/16 [==============================] - 0s 5ms/step - loss: 6.7163e-05 - sparse_categorical_accuracy: 1.0000 - val_loss: 0.0710 - val_sparse_categorical_accuracy: 0.9844\n",
            "Epoch 168/200\n",
            "16/16 [==============================] - 0s 5ms/step - loss: 6.6328e-05 - sparse_categorical_accuracy: 1.0000 - val_loss: 0.0716 - val_sparse_categorical_accuracy: 0.9844\n",
            "Epoch 169/200\n",
            "16/16 [==============================] - 0s 5ms/step - loss: 6.5470e-05 - sparse_categorical_accuracy: 1.0000 - val_loss: 0.0701 - val_sparse_categorical_accuracy: 0.9844\n",
            "Epoch 170/200\n",
            "16/16 [==============================] - 0s 6ms/step - loss: 6.4680e-05 - sparse_categorical_accuracy: 1.0000 - val_loss: 0.0723 - val_sparse_categorical_accuracy: 0.9844\n",
            "Epoch 171/200\n",
            "16/16 [==============================] - 0s 6ms/step - loss: 6.3404e-05 - sparse_categorical_accuracy: 1.0000 - val_loss: 0.0711 - val_sparse_categorical_accuracy: 0.9844\n",
            "Epoch 172/200\n",
            "16/16 [==============================] - 0s 6ms/step - loss: 6.2535e-05 - sparse_categorical_accuracy: 1.0000 - val_loss: 0.0717 - val_sparse_categorical_accuracy: 0.9844\n",
            "Epoch 173/200\n",
            "16/16 [==============================] - 0s 6ms/step - loss: 6.1595e-05 - sparse_categorical_accuracy: 1.0000 - val_loss: 0.0718 - val_sparse_categorical_accuracy: 0.9844\n",
            "Epoch 174/200\n",
            "16/16 [==============================] - 0s 5ms/step - loss: 6.0747e-05 - sparse_categorical_accuracy: 1.0000 - val_loss: 0.0715 - val_sparse_categorical_accuracy: 0.9844\n",
            "Epoch 175/200\n",
            "16/16 [==============================] - 0s 5ms/step - loss: 5.9905e-05 - sparse_categorical_accuracy: 1.0000 - val_loss: 0.0719 - val_sparse_categorical_accuracy: 0.9844\n",
            "Epoch 176/200\n",
            "16/16 [==============================] - 0s 7ms/step - loss: 5.9270e-05 - sparse_categorical_accuracy: 1.0000 - val_loss: 0.0712 - val_sparse_categorical_accuracy: 0.9844\n",
            "Epoch 177/200\n",
            "16/16 [==============================] - 0s 5ms/step - loss: 5.8212e-05 - sparse_categorical_accuracy: 1.0000 - val_loss: 0.0726 - val_sparse_categorical_accuracy: 0.9844\n",
            "Epoch 178/200\n",
            "16/16 [==============================] - 0s 6ms/step - loss: 5.7392e-05 - sparse_categorical_accuracy: 1.0000 - val_loss: 0.0724 - val_sparse_categorical_accuracy: 0.9844\n",
            "Epoch 179/200\n",
            "16/16 [==============================] - 0s 5ms/step - loss: 5.6539e-05 - sparse_categorical_accuracy: 1.0000 - val_loss: 0.0713 - val_sparse_categorical_accuracy: 0.9844\n",
            "Epoch 180/200\n",
            "16/16 [==============================] - 0s 5ms/step - loss: 5.5816e-05 - sparse_categorical_accuracy: 1.0000 - val_loss: 0.0717 - val_sparse_categorical_accuracy: 0.9844\n",
            "Epoch 181/200\n",
            "16/16 [==============================] - 0s 6ms/step - loss: 5.5427e-05 - sparse_categorical_accuracy: 1.0000 - val_loss: 0.0705 - val_sparse_categorical_accuracy: 0.9844\n",
            "Epoch 182/200\n",
            "16/16 [==============================] - 0s 6ms/step - loss: 5.4321e-05 - sparse_categorical_accuracy: 1.0000 - val_loss: 0.0728 - val_sparse_categorical_accuracy: 0.9844\n",
            "Epoch 183/200\n",
            "16/16 [==============================] - 0s 6ms/step - loss: 5.3584e-05 - sparse_categorical_accuracy: 1.0000 - val_loss: 0.0716 - val_sparse_categorical_accuracy: 0.9844\n",
            "Epoch 184/200\n",
            "16/16 [==============================] - 0s 5ms/step - loss: 5.2896e-05 - sparse_categorical_accuracy: 1.0000 - val_loss: 0.0726 - val_sparse_categorical_accuracy: 0.9844\n",
            "Epoch 185/200\n",
            "16/16 [==============================] - 0s 6ms/step - loss: 5.2325e-05 - sparse_categorical_accuracy: 1.0000 - val_loss: 0.0709 - val_sparse_categorical_accuracy: 0.9844\n",
            "Epoch 186/200\n",
            "16/16 [==============================] - 0s 6ms/step - loss: 5.1494e-05 - sparse_categorical_accuracy: 1.0000 - val_loss: 0.0732 - val_sparse_categorical_accuracy: 0.9844\n",
            "Epoch 187/200\n",
            "16/16 [==============================] - 0s 6ms/step - loss: 5.0781e-05 - sparse_categorical_accuracy: 1.0000 - val_loss: 0.0715 - val_sparse_categorical_accuracy: 0.9844\n",
            "Epoch 188/200\n",
            "16/16 [==============================] - 0s 6ms/step - loss: 5.0162e-05 - sparse_categorical_accuracy: 1.0000 - val_loss: 0.0706 - val_sparse_categorical_accuracy: 0.9844\n",
            "Epoch 189/200\n",
            "16/16 [==============================] - 0s 5ms/step - loss: 4.9414e-05 - sparse_categorical_accuracy: 1.0000 - val_loss: 0.0730 - val_sparse_categorical_accuracy: 0.9844\n",
            "Epoch 190/200\n",
            "16/16 [==============================] - 0s 6ms/step - loss: 4.8680e-05 - sparse_categorical_accuracy: 1.0000 - val_loss: 0.0719 - val_sparse_categorical_accuracy: 0.9844\n",
            "Epoch 191/200\n",
            "16/16 [==============================] - 0s 5ms/step - loss: 4.8023e-05 - sparse_categorical_accuracy: 1.0000 - val_loss: 0.0712 - val_sparse_categorical_accuracy: 0.9844\n",
            "Epoch 192/200\n",
            "16/16 [==============================] - 0s 7ms/step - loss: 4.7383e-05 - sparse_categorical_accuracy: 1.0000 - val_loss: 0.0726 - val_sparse_categorical_accuracy: 0.9844\n",
            "Epoch 193/200\n",
            "16/16 [==============================] - 0s 6ms/step - loss: 4.6796e-05 - sparse_categorical_accuracy: 1.0000 - val_loss: 0.0723 - val_sparse_categorical_accuracy: 0.9844\n",
            "Epoch 194/200\n",
            "16/16 [==============================] - 0s 6ms/step - loss: 4.6100e-05 - sparse_categorical_accuracy: 1.0000 - val_loss: 0.0720 - val_sparse_categorical_accuracy: 0.9844\n",
            "Epoch 195/200\n",
            "16/16 [==============================] - 0s 5ms/step - loss: 4.5480e-05 - sparse_categorical_accuracy: 1.0000 - val_loss: 0.0716 - val_sparse_categorical_accuracy: 0.9844\n",
            "Epoch 196/200\n",
            "16/16 [==============================] - 0s 5ms/step - loss: 4.4903e-05 - sparse_categorical_accuracy: 1.0000 - val_loss: 0.0724 - val_sparse_categorical_accuracy: 0.9844\n",
            "Epoch 197/200\n",
            "16/16 [==============================] - 0s 5ms/step - loss: 4.4321e-05 - sparse_categorical_accuracy: 1.0000 - val_loss: 0.0721 - val_sparse_categorical_accuracy: 0.9844\n",
            "Epoch 198/200\n",
            "16/16 [==============================] - 0s 6ms/step - loss: 4.3683e-05 - sparse_categorical_accuracy: 1.0000 - val_loss: 0.0727 - val_sparse_categorical_accuracy: 0.9844\n",
            "Epoch 199/200\n",
            "16/16 [==============================] - 0s 5ms/step - loss: 4.3160e-05 - sparse_categorical_accuracy: 1.0000 - val_loss: 0.0716 - val_sparse_categorical_accuracy: 0.9844\n",
            "Epoch 200/200\n",
            "16/16 [==============================] - 0s 6ms/step - loss: 4.2643e-05 - sparse_categorical_accuracy: 1.0000 - val_loss: 0.0725 - val_sparse_categorical_accuracy: 0.9844\n"
          ]
        }
      ]
    },
    {
      "cell_type": "code",
      "source": [
        "predictions = model.predict(X_test)\n",
        "accuracy = model.evaluate(X_test, y_test, verbose = 0)"
      ],
      "metadata": {
        "colab": {
          "base_uri": "https://localhost:8080/"
        },
        "id": "12Ehz7ylFz1Y",
        "outputId": "67249278-2d93-4896-8d51-55da1a83c0be"
      },
      "execution_count": 32,
      "outputs": [
        {
          "output_type": "stream",
          "name": "stdout",
          "text": [
            "6/6 [==============================] - 0s 3ms/step\n"
          ]
        }
      ]
    },
    {
      "cell_type": "code",
      "source": [
        "for index, entry in enumerate(predictions[0:20,:]):\n",
        "  print('Predicted : %d, Actual : %d'%(np.argmax(entry), y_test[index]))"
      ],
      "metadata": {
        "colab": {
          "base_uri": "https://localhost:8080/"
        },
        "id": "FNRk8EjWGOJ4",
        "outputId": "f21a975b-ac90-4366-92bd-a9529054ce85"
      },
      "execution_count": 33,
      "outputs": [
        {
          "output_type": "stream",
          "name": "stdout",
          "text": [
            "Predicted : 4, Actual : 4\n",
            "Predicted : 0, Actual : 0\n",
            "Predicted : 0, Actual : 0\n",
            "Predicted : 0, Actual : 0\n",
            "Predicted : 3, Actual : 3\n",
            "Predicted : 2, Actual : 2\n",
            "Predicted : 2, Actual : 2\n",
            "Predicted : 4, Actual : 4\n",
            "Predicted : 4, Actual : 4\n",
            "Predicted : 4, Actual : 4\n",
            "Predicted : 0, Actual : 0\n",
            "Predicted : 0, Actual : 0\n",
            "Predicted : 0, Actual : 0\n",
            "Predicted : 2, Actual : 2\n",
            "Predicted : 0, Actual : 0\n",
            "Predicted : 3, Actual : 3\n",
            "Predicted : 2, Actual : 2\n",
            "Predicted : 0, Actual : 0\n",
            "Predicted : 3, Actual : 3\n",
            "Predicted : 0, Actual : 0\n"
          ]
        }
      ]
    },
    {
      "cell_type": "code",
      "source": [
        "plt.plot(history.history['sparse_categorical_accuracy'])\n",
        "plt.plot(history.history['val_sparse_categorical_accuracy'])\n",
        "plt.title('Model Performance')\n",
        "plt.ylabel('Accuracy')\n",
        "plt.xlabel('Epochs')\n",
        "plt.legend(['train', 'val'], loc = 'lower right')\n",
        "plt.show()"
      ],
      "metadata": {
        "colab": {
          "base_uri": "https://localhost:8080/",
          "height": 472
        },
        "id": "WFDP11CzGput",
        "outputId": "e7f9bc95-1c2e-4195-fa1c-060bf7681335"
      },
      "execution_count": 34,
      "outputs": [
        {
          "output_type": "display_data",
          "data": {
            "text/plain": [
              "<Figure size 640x480 with 1 Axes>"
            ],
            "image/png": "[encoded data removed]"
          },
          "metadata": {}
        }
      ]
    },
    {
      "cell_type": "code",
      "source": [
        "plt.plot(history.history['loss'])\n",
        "plt.plot(history.history['val_loss'])\n",
        "plt.title('Model Loss')\n",
        "plt.ylabel('Loss')\n",
        "plt.xlabel('Epochs')\n",
        "plt.legend(['train', 'val'], loc = 'lower right')\n",
        "plt.show()"
      ],
      "metadata": {
        "colab": {
          "base_uri": "https://localhost:8080/",
          "height": 472
        },
        "id": "_DF2Sr9THKN6",
        "outputId": "c6edadc0-3a3c-4583-c04a-954005f1fe7a"
      },
      "execution_count": 35,
      "outputs": [
        {
          "output_type": "display_data",
          "data": {
            "text/plain": [
              "<Figure size 640x480 with 1 Axes>"
            ],
            "image/png": "[encoded data removed]"
          },
          "metadata": {}
        }
      ]
    }
  ]
}